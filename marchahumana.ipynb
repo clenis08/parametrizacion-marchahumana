{
  "nbformat": 4,
  "nbformat_minor": 0,
  "metadata": {
    "colab": {
      "name": "Proyecto_Final_DSP.ipynb",
      "provenance": [],
      "collapsed_sections": []
    },
    "kernelspec": {
      "name": "python3",
      "display_name": "Python 3"
    }
  },
  "cells": [
    {
      "cell_type": "markdown",
      "metadata": {
        "id": "dFzwqbno3aOe"
      },
      "source": [
        "###Importando Data"
      ]
    },
    {
      "cell_type": "code",
      "metadata": {
        "id": "7B6av3pfM0XI",
        "outputId": "ba9c859a-3d14-416c-9add-197a00a3d2f4",
        "colab": {
          "base_uri": "https://localhost:8080/",
          "height": 35
        }
      },
      "source": [
        "#Importando librerias\n",
        "import pandas as pd\n",
        "import numpy as np\n",
        "\n",
        "##Importando desde el drive los archivos de training data y testing data\n",
        "from google.colab import drive\n",
        "drive.mount('/content/drive')\n",
        "\n",
        "PATH = '/content/drive/My Drive/Proyecto_DSP/Dataset_MPU/'\n",
        "DTraining=pd.read_csv(PATH+\"train.csv\")\n",
        "DTesting=pd.read_csv(PATH+\"test.csv\")\n"
      ],
      "execution_count": null,
      "outputs": [
        {
          "output_type": "stream",
          "text": [
            "Mounted at /content/drive\n"
          ],
          "name": "stdout"
        }
      ]
    },
    {
      "cell_type": "markdown",
      "metadata": {
        "id": "C-0X7RX83Nil"
      },
      "source": [
        "###Modelo-1"
      ]
    },
    {
      "cell_type": "code",
      "metadata": {
        "id": "S0REU9AC4F7Q",
        "outputId": "c9e448ef-45b1-4eb9-9bd7-32e203e4aa2a",
        "colab": {
          "base_uri": "https://localhost:8080/",
          "height": 35
        }
      },
      "source": [
        "from sklearn import preprocessing\n",
        "from sklearn.preprocessing import OneHotEncoder\n",
        "from keras.models import Sequential\n",
        "from keras.layers import Dense, Activation\n",
        "from keras.utils import to_categorical\n",
        "\n",
        "\n",
        "le=preprocessing.LabelEncoder()\n",
        "\n",
        "DTrain = DTraining\n",
        "DataGyro=DTrain.iloc[0:,120:136]\n",
        "DataAcc=DTrain.iloc[0:,0:16]\n",
        "DataGrav=DTrain.iloc[0:,40:56]\n",
        "\n",
        "Data_Gyro=DataGyro.to_numpy()\n",
        "Data_Acc=DataAcc.to_numpy()\n",
        "Data_Grav=DataGrav.to_numpy()\n",
        "\n",
        "DataInput=np.append(Data_Acc,Data_Grav,axis=1)\n",
        "DataIn=np.append(DataInput,Data_Gyro,axis=1)\n",
        "#DataInput=Data_Acc;\n",
        "\n",
        "DTest=DTesting\n",
        "DGyro=DTest.iloc[0:,120:136]\n",
        "DAcc=DTest.iloc[0:,0:16]\n",
        "DGrav=DTest.iloc[0:,40:56]\n",
        "\n",
        "D_Gyro=DGyro.to_numpy()\n",
        "D_Acc=DAcc.to_numpy()\n",
        "D_Grav=DGrav.to_numpy()\n",
        "\n",
        "DTestInput=np.append(D_Acc,D_Grav, axis=1)\n",
        "DTestIn=np.append(DTestInput,D_Gyro,axis=1)\n",
        "\n",
        "le.fit(DTrain['Activity'])\n",
        "label=list(le.classes_)\n",
        "\n",
        "DataOutput=le.transform(DTrain['Activity'])\n",
        "DataOutput=to_categorical(DataOutput)\n",
        "\n",
        "DTestOut=le.transform(DTest['Activity'])\n",
        "DTestOut=to_categorical(DTestOut)\n",
        "\n",
        "inputdim=DataIn.shape[1]\n",
        "outputdim=DataOutput.shape[1]\n"
      ],
      "execution_count": null,
      "outputs": [
        {
          "output_type": "stream",
          "text": [
            "Using TensorFlow backend.\n"
          ],
          "name": "stderr"
        }
      ]
    },
    {
      "cell_type": "code",
      "metadata": {
        "id": "IbGnp66qwrgm"
      },
      "source": [
        "##Red Neuronal \n",
        "model01= Sequential () \n",
        "model01.add(Dense(units=250, activation='relu', input_dim=inputdim))\n",
        "model01.add(Dense(units=250, activation='relu', input_dim=250))\n",
        "model01.add(Dense(units=250, activation='relu', input_dim=250))\n",
        "model01.add(Dense(units=outputdim, activation='softmax'))\n",
        "\n"
      ],
      "execution_count": null,
      "outputs": []
    },
    {
      "cell_type": "code",
      "metadata": {
        "id": "aJqpmdaVInOs",
        "outputId": "a3708efd-271e-474c-801a-92cb34d445fa",
        "colab": {
          "base_uri": "https://localhost:8080/",
          "height": 1000
        }
      },
      "source": [
        "##Entrenamiento de red\n",
        "\n",
        "model01.compile(optimizer='adadelta',loss='categorical_crossentropy',metrics=['accuracy'])\n",
        "\n",
        "history01 = model01.fit(DataIn,DataOutput, epochs=100, batch_size=150, validation_split=0.001, shuffle=False)\n"
      ],
      "execution_count": null,
      "outputs": [
        {
          "output_type": "stream",
          "text": [
            "Train on 7344 samples, validate on 8 samples\n",
            "Epoch 1/100\n",
            "7344/7344 [==============================] - 0s 58us/step - loss: 0.8763 - accuracy: 0.6400 - val_loss: 0.6488 - val_accuracy: 1.0000\n",
            "Epoch 2/100\n",
            "7344/7344 [==============================] - 0s 41us/step - loss: 0.5843 - accuracy: 0.7271 - val_loss: 0.7625 - val_accuracy: 0.6250\n",
            "Epoch 3/100\n",
            "7344/7344 [==============================] - 0s 39us/step - loss: 0.4891 - accuracy: 0.7832 - val_loss: 1.0284 - val_accuracy: 0.1250\n",
            "Epoch 4/100\n",
            "7344/7344 [==============================] - 0s 42us/step - loss: 0.4153 - accuracy: 0.8189 - val_loss: 1.0011 - val_accuracy: 0.1250\n",
            "Epoch 5/100\n",
            "7344/7344 [==============================] - 0s 40us/step - loss: 0.3880 - accuracy: 0.8397 - val_loss: 0.5618 - val_accuracy: 0.8750\n",
            "Epoch 6/100\n",
            "7344/7344 [==============================] - 0s 39us/step - loss: 0.3587 - accuracy: 0.8502 - val_loss: 0.3044 - val_accuracy: 1.0000\n",
            "Epoch 7/100\n",
            "7344/7344 [==============================] - 0s 39us/step - loss: 0.3378 - accuracy: 0.8562 - val_loss: 0.1960 - val_accuracy: 1.0000\n",
            "Epoch 8/100\n",
            "7344/7344 [==============================] - 0s 41us/step - loss: 0.3233 - accuracy: 0.8581 - val_loss: 0.1544 - val_accuracy: 1.0000\n",
            "Epoch 9/100\n",
            "7344/7344 [==============================] - 0s 42us/step - loss: 0.3099 - accuracy: 0.8671 - val_loss: 0.1476 - val_accuracy: 1.0000\n",
            "Epoch 10/100\n",
            "7344/7344 [==============================] - 0s 40us/step - loss: 0.2962 - accuracy: 0.8828 - val_loss: 0.1485 - val_accuracy: 1.0000\n",
            "Epoch 11/100\n",
            "7344/7344 [==============================] - 0s 40us/step - loss: 0.2850 - accuracy: 0.8830 - val_loss: 0.1493 - val_accuracy: 1.0000\n",
            "Epoch 12/100\n",
            "7344/7344 [==============================] - 0s 41us/step - loss: 0.2740 - accuracy: 0.8894 - val_loss: 0.1652 - val_accuracy: 1.0000\n",
            "Epoch 13/100\n",
            "7344/7344 [==============================] - 0s 40us/step - loss: 0.2672 - accuracy: 0.8898 - val_loss: 0.1644 - val_accuracy: 0.8750\n",
            "Epoch 14/100\n",
            "7344/7344 [==============================] - 0s 40us/step - loss: 0.2572 - accuracy: 0.9003 - val_loss: 0.1684 - val_accuracy: 0.8750\n",
            "Epoch 15/100\n",
            "7344/7344 [==============================] - 0s 41us/step - loss: 0.2512 - accuracy: 0.9033 - val_loss: 0.1616 - val_accuracy: 0.8750\n",
            "Epoch 16/100\n",
            "7344/7344 [==============================] - 0s 39us/step - loss: 0.2452 - accuracy: 0.9114 - val_loss: 0.1564 - val_accuracy: 0.8750\n",
            "Epoch 17/100\n",
            "7344/7344 [==============================] - 0s 40us/step - loss: 0.2423 - accuracy: 0.9071 - val_loss: 0.1471 - val_accuracy: 0.8750\n",
            "Epoch 18/100\n",
            "7344/7344 [==============================] - 0s 40us/step - loss: 0.2338 - accuracy: 0.9161 - val_loss: 0.1423 - val_accuracy: 0.8750\n",
            "Epoch 19/100\n",
            "7344/7344 [==============================] - 0s 40us/step - loss: 0.2282 - accuracy: 0.9175 - val_loss: 0.1351 - val_accuracy: 0.8750\n",
            "Epoch 20/100\n",
            "7344/7344 [==============================] - 0s 39us/step - loss: 0.2244 - accuracy: 0.9202 - val_loss: 0.1319 - val_accuracy: 0.8750\n",
            "Epoch 21/100\n",
            "7344/7344 [==============================] - 0s 42us/step - loss: 0.2228 - accuracy: 0.9169 - val_loss: 0.1254 - val_accuracy: 1.0000\n",
            "Epoch 22/100\n",
            "7344/7344 [==============================] - 0s 42us/step - loss: 0.2166 - accuracy: 0.9214 - val_loss: 0.1147 - val_accuracy: 1.0000\n",
            "Epoch 23/100\n",
            "7344/7344 [==============================] - 0s 39us/step - loss: 0.2125 - accuracy: 0.9247 - val_loss: 0.1100 - val_accuracy: 1.0000\n",
            "Epoch 24/100\n",
            "7344/7344 [==============================] - 0s 40us/step - loss: 0.2082 - accuracy: 0.9265 - val_loss: 0.1131 - val_accuracy: 1.0000\n",
            "Epoch 25/100\n",
            "7344/7344 [==============================] - 0s 42us/step - loss: 0.2054 - accuracy: 0.9277 - val_loss: 0.1087 - val_accuracy: 1.0000\n",
            "Epoch 26/100\n",
            "7344/7344 [==============================] - 0s 39us/step - loss: 0.2030 - accuracy: 0.9301 - val_loss: 0.1116 - val_accuracy: 1.0000\n",
            "Epoch 27/100\n",
            "7344/7344 [==============================] - 0s 39us/step - loss: 0.1974 - accuracy: 0.9308 - val_loss: 0.1059 - val_accuracy: 1.0000\n",
            "Epoch 28/100\n",
            "7344/7344 [==============================] - 0s 41us/step - loss: 0.1958 - accuracy: 0.9321 - val_loss: 0.1090 - val_accuracy: 1.0000\n",
            "Epoch 29/100\n",
            "7344/7344 [==============================] - 0s 39us/step - loss: 0.1967 - accuracy: 0.9303 - val_loss: 0.1126 - val_accuracy: 1.0000\n",
            "Epoch 30/100\n",
            "7344/7344 [==============================] - 0s 40us/step - loss: 0.1927 - accuracy: 0.9338 - val_loss: 0.1068 - val_accuracy: 1.0000\n",
            "Epoch 31/100\n",
            "7344/7344 [==============================] - 0s 39us/step - loss: 0.1867 - accuracy: 0.9346 - val_loss: 0.1059 - val_accuracy: 1.0000\n",
            "Epoch 32/100\n",
            "7344/7344 [==============================] - 0s 40us/step - loss: 0.1826 - accuracy: 0.9371 - val_loss: 0.1054 - val_accuracy: 1.0000\n",
            "Epoch 33/100\n",
            "7344/7344 [==============================] - 0s 39us/step - loss: 0.1803 - accuracy: 0.9364 - val_loss: 0.1062 - val_accuracy: 1.0000\n",
            "Epoch 34/100\n",
            "7344/7344 [==============================] - 0s 38us/step - loss: 0.1767 - accuracy: 0.9401 - val_loss: 0.1099 - val_accuracy: 1.0000\n",
            "Epoch 35/100\n",
            "7344/7344 [==============================] - 0s 43us/step - loss: 0.1743 - accuracy: 0.9394 - val_loss: 0.1129 - val_accuracy: 1.0000\n",
            "Epoch 36/100\n",
            "7344/7344 [==============================] - 0s 40us/step - loss: 0.1722 - accuracy: 0.9389 - val_loss: 0.1081 - val_accuracy: 1.0000\n",
            "Epoch 37/100\n",
            "7344/7344 [==============================] - 0s 39us/step - loss: 0.1708 - accuracy: 0.9395 - val_loss: 0.1039 - val_accuracy: 1.0000\n",
            "Epoch 38/100\n",
            "7344/7344 [==============================] - 0s 40us/step - loss: 0.1674 - accuracy: 0.9408 - val_loss: 0.0996 - val_accuracy: 1.0000\n",
            "Epoch 39/100\n",
            "7344/7344 [==============================] - 0s 42us/step - loss: 0.1644 - accuracy: 0.9431 - val_loss: 0.0954 - val_accuracy: 1.0000\n",
            "Epoch 40/100\n",
            "7344/7344 [==============================] - 0s 40us/step - loss: 0.1619 - accuracy: 0.9434 - val_loss: 0.0938 - val_accuracy: 1.0000\n",
            "Epoch 41/100\n",
            "7344/7344 [==============================] - 0s 39us/step - loss: 0.1612 - accuracy: 0.9421 - val_loss: 0.0904 - val_accuracy: 1.0000\n",
            "Epoch 42/100\n",
            "7344/7344 [==============================] - 0s 42us/step - loss: 0.1580 - accuracy: 0.9436 - val_loss: 0.0860 - val_accuracy: 1.0000\n",
            "Epoch 43/100\n",
            "7344/7344 [==============================] - 0s 39us/step - loss: 0.1557 - accuracy: 0.9423 - val_loss: 0.0821 - val_accuracy: 1.0000\n",
            "Epoch 44/100\n",
            "7344/7344 [==============================] - 0s 40us/step - loss: 0.1524 - accuracy: 0.9450 - val_loss: 0.0822 - val_accuracy: 1.0000\n",
            "Epoch 45/100\n",
            "7344/7344 [==============================] - 0s 39us/step - loss: 0.1518 - accuracy: 0.9432 - val_loss: 0.0762 - val_accuracy: 1.0000\n",
            "Epoch 46/100\n",
            "7344/7344 [==============================] - 0s 39us/step - loss: 0.1489 - accuracy: 0.9439 - val_loss: 0.0749 - val_accuracy: 1.0000\n",
            "Epoch 47/100\n",
            "7344/7344 [==============================] - 0s 39us/step - loss: 0.1475 - accuracy: 0.9434 - val_loss: 0.0756 - val_accuracy: 1.0000\n",
            "Epoch 48/100\n",
            "7344/7344 [==============================] - 0s 40us/step - loss: 0.1464 - accuracy: 0.9438 - val_loss: 0.0743 - val_accuracy: 1.0000\n",
            "Epoch 49/100\n",
            "7344/7344 [==============================] - 0s 41us/step - loss: 0.1449 - accuracy: 0.9444 - val_loss: 0.0788 - val_accuracy: 1.0000\n",
            "Epoch 50/100\n",
            "7344/7344 [==============================] - 0s 41us/step - loss: 0.1424 - accuracy: 0.9451 - val_loss: 0.0766 - val_accuracy: 1.0000\n",
            "Epoch 51/100\n",
            "7344/7344 [==============================] - 0s 39us/step - loss: 0.1404 - accuracy: 0.9461 - val_loss: 0.0735 - val_accuracy: 1.0000\n",
            "Epoch 52/100\n",
            "7344/7344 [==============================] - 0s 40us/step - loss: 0.1382 - accuracy: 0.9468 - val_loss: 0.0772 - val_accuracy: 1.0000\n",
            "Epoch 53/100\n",
            "7344/7344 [==============================] - 0s 40us/step - loss: 0.1358 - accuracy: 0.9483 - val_loss: 0.0739 - val_accuracy: 1.0000\n",
            "Epoch 54/100\n",
            "7344/7344 [==============================] - 0s 40us/step - loss: 0.1330 - accuracy: 0.9507 - val_loss: 0.0823 - val_accuracy: 1.0000\n",
            "Epoch 55/100\n",
            "7344/7344 [==============================] - 0s 41us/step - loss: 0.1309 - accuracy: 0.9513 - val_loss: 0.0739 - val_accuracy: 1.0000\n",
            "Epoch 56/100\n",
            "7344/7344 [==============================] - 0s 44us/step - loss: 0.1289 - accuracy: 0.9529 - val_loss: 0.0765 - val_accuracy: 1.0000\n",
            "Epoch 57/100\n",
            "7344/7344 [==============================] - 0s 40us/step - loss: 0.1272 - accuracy: 0.9528 - val_loss: 0.0817 - val_accuracy: 1.0000\n",
            "Epoch 58/100\n",
            "7344/7344 [==============================] - 0s 40us/step - loss: 0.1262 - accuracy: 0.9534 - val_loss: 0.0843 - val_accuracy: 1.0000\n",
            "Epoch 59/100\n",
            "7344/7344 [==============================] - 0s 42us/step - loss: 0.1246 - accuracy: 0.9538 - val_loss: 0.0902 - val_accuracy: 1.0000\n",
            "Epoch 60/100\n",
            "7344/7344 [==============================] - 0s 41us/step - loss: 0.1218 - accuracy: 0.9562 - val_loss: 0.0834 - val_accuracy: 1.0000\n",
            "Epoch 61/100\n",
            "7344/7344 [==============================] - 0s 40us/step - loss: 0.1208 - accuracy: 0.9557 - val_loss: 0.1081 - val_accuracy: 0.8750\n",
            "Epoch 62/100\n",
            "7344/7344 [==============================] - 0s 40us/step - loss: 0.1205 - accuracy: 0.9552 - val_loss: 0.0941 - val_accuracy: 1.0000\n",
            "Epoch 63/100\n",
            "7344/7344 [==============================] - 0s 41us/step - loss: 0.1182 - accuracy: 0.9559 - val_loss: 0.0965 - val_accuracy: 0.8750\n",
            "Epoch 64/100\n",
            "7344/7344 [==============================] - 0s 39us/step - loss: 0.1179 - accuracy: 0.9562 - val_loss: 0.1246 - val_accuracy: 0.8750\n",
            "Epoch 65/100\n",
            "7344/7344 [==============================] - 0s 38us/step - loss: 0.1204 - accuracy: 0.9538 - val_loss: 0.0760 - val_accuracy: 1.0000\n",
            "Epoch 66/100\n",
            "7344/7344 [==============================] - 0s 39us/step - loss: 0.1133 - accuracy: 0.9585 - val_loss: 0.1191 - val_accuracy: 0.8750\n",
            "Epoch 67/100\n",
            "7344/7344 [==============================] - 0s 38us/step - loss: 0.1163 - accuracy: 0.9557 - val_loss: 0.1066 - val_accuracy: 0.8750\n",
            "Epoch 68/100\n",
            "7344/7344 [==============================] - 0s 39us/step - loss: 0.1118 - accuracy: 0.9581 - val_loss: 0.0944 - val_accuracy: 0.8750\n",
            "Epoch 69/100\n",
            "7344/7344 [==============================] - 0s 40us/step - loss: 0.1155 - accuracy: 0.9560 - val_loss: 0.1720 - val_accuracy: 0.8750\n",
            "Epoch 70/100\n",
            "7344/7344 [==============================] - 0s 41us/step - loss: 0.1163 - accuracy: 0.9564 - val_loss: 0.1806 - val_accuracy: 0.8750\n",
            "Epoch 71/100\n",
            "7344/7344 [==============================] - 0s 39us/step - loss: 0.1184 - accuracy: 0.9523 - val_loss: 0.1150 - val_accuracy: 0.8750\n",
            "Epoch 72/100\n",
            "7344/7344 [==============================] - 0s 39us/step - loss: 0.1172 - accuracy: 0.9548 - val_loss: 0.2198 - val_accuracy: 0.8750\n",
            "Epoch 73/100\n",
            "7344/7344 [==============================] - 0s 40us/step - loss: 0.1159 - accuracy: 0.9577 - val_loss: 0.1709 - val_accuracy: 0.8750\n",
            "Epoch 74/100\n",
            "7344/7344 [==============================] - 0s 38us/step - loss: 0.1523 - accuracy: 0.9431 - val_loss: 0.2694 - val_accuracy: 0.8750\n",
            "Epoch 75/100\n",
            "7344/7344 [==============================] - 0s 40us/step - loss: 0.1153 - accuracy: 0.9529 - val_loss: 0.1777 - val_accuracy: 0.8750\n",
            "Epoch 76/100\n",
            "7344/7344 [==============================] - 0s 39us/step - loss: 0.1101 - accuracy: 0.9568 - val_loss: 0.1649 - val_accuracy: 0.8750\n",
            "Epoch 77/100\n",
            "7344/7344 [==============================] - 0s 39us/step - loss: 0.1140 - accuracy: 0.9556 - val_loss: 0.1505 - val_accuracy: 0.8750\n",
            "Epoch 78/100\n",
            "7344/7344 [==============================] - 0s 39us/step - loss: 0.1152 - accuracy: 0.9560 - val_loss: 0.1764 - val_accuracy: 0.8750\n",
            "Epoch 79/100\n",
            "7344/7344 [==============================] - 0s 40us/step - loss: 0.1147 - accuracy: 0.9552 - val_loss: 0.1396 - val_accuracy: 0.8750\n",
            "Epoch 80/100\n",
            "7344/7344 [==============================] - 0s 41us/step - loss: 0.1108 - accuracy: 0.9566 - val_loss: 0.1578 - val_accuracy: 0.8750\n",
            "Epoch 81/100\n",
            "7344/7344 [==============================] - 0s 39us/step - loss: 0.1196 - accuracy: 0.9540 - val_loss: 0.2473 - val_accuracy: 0.8750\n",
            "Epoch 82/100\n",
            "7344/7344 [==============================] - 0s 39us/step - loss: 0.1149 - accuracy: 0.9568 - val_loss: 0.1755 - val_accuracy: 0.8750\n",
            "Epoch 83/100\n",
            "7344/7344 [==============================] - 0s 38us/step - loss: 0.1113 - accuracy: 0.9533 - val_loss: 0.1936 - val_accuracy: 0.8750\n",
            "Epoch 84/100\n",
            "7344/7344 [==============================] - 0s 39us/step - loss: 0.1168 - accuracy: 0.9515 - val_loss: 0.2156 - val_accuracy: 0.8750\n",
            "Epoch 85/100\n",
            "7344/7344 [==============================] - 0s 38us/step - loss: 0.1086 - accuracy: 0.9549 - val_loss: 0.0995 - val_accuracy: 0.8750\n",
            "Epoch 86/100\n",
            "7344/7344 [==============================] - 0s 37us/step - loss: 0.1163 - accuracy: 0.9522 - val_loss: 0.2064 - val_accuracy: 0.8750\n",
            "Epoch 87/100\n",
            "7344/7344 [==============================] - 0s 39us/step - loss: 0.1088 - accuracy: 0.9542 - val_loss: 0.0954 - val_accuracy: 0.8750\n",
            "Epoch 88/100\n",
            "7344/7344 [==============================] - 0s 37us/step - loss: 0.1158 - accuracy: 0.9533 - val_loss: 0.1808 - val_accuracy: 0.8750\n",
            "Epoch 89/100\n",
            "7344/7344 [==============================] - 0s 38us/step - loss: 0.1066 - accuracy: 0.9552 - val_loss: 0.0763 - val_accuracy: 1.0000\n",
            "Epoch 90/100\n",
            "7344/7344 [==============================] - 0s 37us/step - loss: 0.1067 - accuracy: 0.9545 - val_loss: 0.0868 - val_accuracy: 1.0000\n",
            "Epoch 91/100\n",
            "7344/7344 [==============================] - 0s 39us/step - loss: 0.1108 - accuracy: 0.9525 - val_loss: 0.0891 - val_accuracy: 0.8750\n",
            "Epoch 92/100\n",
            "7344/7344 [==============================] - 0s 39us/step - loss: 0.1123 - accuracy: 0.9526 - val_loss: 0.1186 - val_accuracy: 0.8750\n",
            "Epoch 93/100\n",
            "7344/7344 [==============================] - 0s 38us/step - loss: 0.1008 - accuracy: 0.9579 - val_loss: 0.0687 - val_accuracy: 1.0000\n",
            "Epoch 94/100\n",
            "7344/7344 [==============================] - 0s 38us/step - loss: 0.1099 - accuracy: 0.9522 - val_loss: 0.1364 - val_accuracy: 0.8750\n",
            "Epoch 95/100\n",
            "7344/7344 [==============================] - 0s 39us/step - loss: 0.0971 - accuracy: 0.9583 - val_loss: 0.0631 - val_accuracy: 1.0000\n",
            "Epoch 96/100\n",
            "7344/7344 [==============================] - 0s 38us/step - loss: 0.1113 - accuracy: 0.9511 - val_loss: 0.1317 - val_accuracy: 0.8750\n",
            "Epoch 97/100\n",
            "7344/7344 [==============================] - 0s 38us/step - loss: 0.0992 - accuracy: 0.9564 - val_loss: 0.0534 - val_accuracy: 1.0000\n",
            "Epoch 98/100\n",
            "7344/7344 [==============================] - 0s 39us/step - loss: 0.1074 - accuracy: 0.9532 - val_loss: 0.1432 - val_accuracy: 0.8750\n",
            "Epoch 99/100\n",
            "7344/7344 [==============================] - 0s 38us/step - loss: 0.0974 - accuracy: 0.9579 - val_loss: 0.0677 - val_accuracy: 1.0000\n",
            "Epoch 100/100\n",
            "7344/7344 [==============================] - 0s 39us/step - loss: 0.1058 - accuracy: 0.9523 - val_loss: 0.0714 - val_accuracy: 1.0000\n"
          ],
          "name": "stdout"
        }
      ]
    },
    {
      "cell_type": "code",
      "metadata": {
        "id": "rV9_AlEPPSG2"
      },
      "source": [
        "model01.save(PATH+\"Proyecto.h5\")"
      ],
      "execution_count": null,
      "outputs": []
    },
    {
      "cell_type": "code",
      "metadata": {
        "id": "dBe8V5PIyJQD"
      },
      "source": [
        "from keras.models import load_model\n",
        "red=load_model(PATH+\"Proyecto.h5\")"
      ],
      "execution_count": null,
      "outputs": []
    },
    {
      "cell_type": "code",
      "metadata": {
        "id": "iGag_mplaK-o",
        "outputId": "639d33ba-b176-4687-fb1a-7c05f6025c3e",
        "colab": {
          "base_uri": "https://localhost:8080/",
          "height": 128
        }
      },
      "source": [
        "Testpre= red.predict(DTestIn)\n",
        "\n",
        "from  sklearn.metrics import confusion_matrix\n",
        "\n",
        "Testpre=Testpre>= 0.5\n",
        "Testpre=Testpre + [0, 0, 0, 0, 0, 0]\n",
        "\n",
        "\n",
        "cm=confusion_matrix(DTestOut.argmax(axis=1),Testpre.argmax(axis=1))\n",
        "\n",
        "print(cm)\n"
      ],
      "execution_count": null,
      "outputs": [
        {
          "output_type": "stream",
          "text": [
            "[[510   0   0   0   0  27]\n",
            " [  0 378 104   0   0   9]\n",
            " [  0  66 466   0   0   0]\n",
            " [  1   0   0 348  62  85]\n",
            " [  1   0   0  41 324  54]\n",
            " [  0   0   0 113  29 329]]\n"
          ],
          "name": "stdout"
        }
      ]
    },
    {
      "cell_type": "code",
      "metadata": {
        "id": "X5R07SzVh9oW",
        "outputId": "abf2bb7c-51f0-4294-874e-b88d87cd5504",
        "colab": {
          "base_uri": "https://localhost:8080/",
          "height": 629
        }
      },
      "source": [
        "import seaborn as sn\n",
        "import matplotlib.pyplot as plt\n",
        "\n",
        "resultado = pd.DataFrame(cm, index=label,columns=label)\n",
        "fig = plt.figure(figsize= (6,6))\n",
        "ax = fig.add_subplot(1,1,1)\n",
        "sn.heatmap(resultado, annot=True, linewidths=1, linecolor= 'white', cmap=\"GnBu\")\n",
        "font= {'family': 'serif',\n",
        "     'color': 'darkred',\n",
        "    'weight': 'normal',\n",
        "    'size':14}\n",
        "ax.set_title(\"Matrix de confusion \",fontdict ={'family': 'serif','color': 'black','weight': 'normal','size':40})\n",
        "ax.set_ylabel(\"Preditec Label\", labelpad=20, fontdict={'family': 'serif','color': 'black','weight': 'normal','size':20})\n",
        "ax.set_xlabel(\"True Label\", labelpad=15, fontdict={'family': 'serif','color': 'black','weight': 'normal','size':20})"
      ],
      "execution_count": null,
      "outputs": [
        {
          "output_type": "stream",
          "text": [
            "/usr/local/lib/python3.6/dist-packages/statsmodels/tools/_testing.py:19: FutureWarning: pandas.util.testing is deprecated. Use the functions in the public API at pandas.testing instead.\n",
            "  import pandas.util.testing as tm\n"
          ],
          "name": "stderr"
        },
        {
          "output_type": "execute_result",
          "data": {
            "text/plain": [
              "Text(0.5, 32.09375, 'True Label')"
            ]
          },
          "metadata": {
            "tags": []
          },
          "execution_count": 33
        },
        {
          "output_type": "display_data",
          "data": {
            "image/png": "[encoded data removed]",
            "text/plain": [
              "<Figure size 432x432 with 2 Axes>"
            ]
          },
          "metadata": {
            "tags": [],
            "needs_background": "light"
          }
        }
      ]
    },
    {
      "cell_type": "code",
      "metadata": {
        "id": "G2pdILe1pIBZ",
        "outputId": "f6eec250-5edb-48f6-f099-cda3da410e1f",
        "colab": {
          "base_uri": "https://localhost:8080/",
          "height": 72
        }
      },
      "source": [
        "Li=6478\n",
        "Ls=Li+1\n",
        "\n",
        "Gyro=DTrain.iloc[Li:Ls,120:136]\n",
        "Acc=DTrain.iloc[Li:Ls,0:16]\n",
        "Grav=DTrain.iloc[Li:Ls,40:56]\n",
        "\n",
        "PredictGyro=Gyro.to_numpy()\n",
        "PredictAcc=Acc.to_numpy()\n",
        "PredictGrav=Grav.to_numpy()\n",
        "\n",
        "DataPred=np.append(PredictAcc,PredictGrav, axis=1)\n",
        "DataPredict=np.append(DataPred,PredictGyro, axis =1)\n",
        "\n",
        "Actividad=DTrain.iloc[Li:Ls,562:]\n",
        "print(Actividad)\n",
        "DataPredict.shape"
      ],
      "execution_count": null,
      "outputs": [
        {
          "output_type": "stream",
          "text": [
            "      Activity\n",
            "6478  STANDING\n"
          ],
          "name": "stdout"
        },
        {
          "output_type": "execute_result",
          "data": {
            "text/plain": [
              "(1, 48)"
            ]
          },
          "metadata": {
            "tags": []
          },
          "execution_count": 41
        }
      ]
    },
    {
      "cell_type": "code",
      "metadata": {
        "id": "1h593Z1sn62H",
        "outputId": "76729dee-84a6-45ef-9385-d18376270c20",
        "colab": {
          "base_uri": "https://localhost:8080/",
          "height": 35
        }
      },
      "source": [
        "actividad=red.predict(DataPredict)\n",
        "actividad=actividad[0]\n",
        "actividad=np.argmax(actividad)\n",
        "actividad\n",
        "\n",
        "print(label[actividad])"
      ],
      "execution_count": null,
      "outputs": [
        {
          "output_type": "stream",
          "text": [
            "STANDING\n"
          ],
          "name": "stdout"
        }
      ]
    },
    {
      "cell_type": "markdown",
      "metadata": {
        "id": "3rVufqKl4g-s"
      },
      "source": [
        "###Modelo 2 "
      ]
    },
    {
      "cell_type": "code",
      "metadata": {
        "id": "pBK_xtdn4lAo",
        "outputId": "0672b1ea-a01e-4e94-fdbf-a98c07395810",
        "colab": {
          "base_uri": "https://localhost:8080/",
          "height": 391
        }
      },
      "source": [
        "PATH_2 = '/content/drive/My Drive/Proyecto_DSP/DatasetHumanActivity/'\n",
        "\n",
        "Test = pd.read_csv(PATH_2+\"jog_16/sub_9.csv\")\n",
        "\n",
        "print(Test.head())\n",
        "Dat=Test.describe()\n",
        "Dat.head()"
      ],
      "execution_count": null,
      "outputs": [
        {
          "output_type": "stream",
          "text": [
            "   Unnamed: 0  attitude.roll  ...  userAcceleration.y  userAcceleration.z\n",
            "0           0      -0.396751  ...            0.655057            1.348757\n",
            "1           1      -0.104562  ...            2.122216            0.988781\n",
            "2           2      -0.048151  ...           -0.929432            0.023401\n",
            "3           3      -0.028313  ...           -1.172439            0.574634\n",
            "4           4      -0.081964  ...           -1.367846            1.188206\n",
            "\n",
            "[5 rows x 13 columns]\n"
          ],
          "name": "stdout"
        },
        {
          "output_type": "execute_result",
          "data": {
            "text/html": [
              "<div>\n",
              "<style scoped>\n",
              "    .dataframe tbody tr th:only-of-type {\n",
              "        vertical-align: middle;\n",
              "    }\n",
              "\n",
              "    .dataframe tbody tr th {\n",
              "        vertical-align: top;\n",
              "    }\n",
              "\n",
              "    .dataframe thead th {\n",
              "        text-align: right;\n",
              "    }\n",
              "</style>\n",
              "<table border=\"1\" class=\"dataframe\">\n",
              "  <thead>\n",
              "    <tr style=\"text-align: right;\">\n",
              "      <th></th>\n",
              "      <th>Unnamed: 0</th>\n",
              "      <th>attitude.roll</th>\n",
              "      <th>attitude.pitch</th>\n",
              "      <th>attitude.yaw</th>\n",
              "      <th>gravity.x</th>\n",
              "      <th>gravity.y</th>\n",
              "      <th>gravity.z</th>\n",
              "      <th>rotationRate.x</th>\n",
              "      <th>rotationRate.y</th>\n",
              "      <th>rotationRate.z</th>\n",
              "      <th>userAcceleration.x</th>\n",
              "      <th>userAcceleration.y</th>\n",
              "      <th>userAcceleration.z</th>\n",
              "    </tr>\n",
              "  </thead>\n",
              "  <tbody>\n",
              "    <tr>\n",
              "      <th>count</th>\n",
              "      <td>1072.000000</td>\n",
              "      <td>1072.000000</td>\n",
              "      <td>1072.000000</td>\n",
              "      <td>1072.000000</td>\n",
              "      <td>1072.000000</td>\n",
              "      <td>1072.000000</td>\n",
              "      <td>1072.000000</td>\n",
              "      <td>1072.000000</td>\n",
              "      <td>1072.000000</td>\n",
              "      <td>1072.000000</td>\n",
              "      <td>1072.000000</td>\n",
              "      <td>1072.000000</td>\n",
              "      <td>1072.000000</td>\n",
              "    </tr>\n",
              "    <tr>\n",
              "      <th>mean</th>\n",
              "      <td>535.500000</td>\n",
              "      <td>-1.284642</td>\n",
              "      <td>-1.179798</td>\n",
              "      <td>0.197819</td>\n",
              "      <td>-0.232285</td>\n",
              "      <td>0.913055</td>\n",
              "      <td>-0.087140</td>\n",
              "      <td>0.077484</td>\n",
              "      <td>-0.097097</td>\n",
              "      <td>-0.007248</td>\n",
              "      <td>0.046963</td>\n",
              "      <td>0.201263</td>\n",
              "      <td>0.095319</td>\n",
              "    </tr>\n",
              "    <tr>\n",
              "      <th>std</th>\n",
              "      <td>309.604048</td>\n",
              "      <td>0.851451</td>\n",
              "      <td>0.158488</td>\n",
              "      <td>1.715161</td>\n",
              "      <td>0.100187</td>\n",
              "      <td>0.064234</td>\n",
              "      <td>0.301182</td>\n",
              "      <td>3.277070</td>\n",
              "      <td>3.286686</td>\n",
              "      <td>1.545825</td>\n",
              "      <td>0.893266</td>\n",
              "      <td>1.532151</td>\n",
              "      <td>1.130814</td>\n",
              "    </tr>\n",
              "    <tr>\n",
              "      <th>min</th>\n",
              "      <td>0.000000</td>\n",
              "      <td>-3.049649</td>\n",
              "      <td>-1.556907</td>\n",
              "      <td>-3.141224</td>\n",
              "      <td>-0.596629</td>\n",
              "      <td>0.631297</td>\n",
              "      <td>-0.718198</td>\n",
              "      <td>-9.471050</td>\n",
              "      <td>-11.549159</td>\n",
              "      <td>-5.481345</td>\n",
              "      <td>-4.764206</td>\n",
              "      <td>-2.546883</td>\n",
              "      <td>-4.517324</td>\n",
              "    </tr>\n",
              "    <tr>\n",
              "      <th>25%</th>\n",
              "      <td>267.750000</td>\n",
              "      <td>-2.092390</td>\n",
              "      <td>-1.295005</td>\n",
              "      <td>-1.364801</td>\n",
              "      <td>-0.284661</td>\n",
              "      <td>0.871308</td>\n",
              "      <td>-0.319785</td>\n",
              "      <td>-2.338089</td>\n",
              "      <td>-2.751275</td>\n",
              "      <td>-0.907754</td>\n",
              "      <td>-0.335394</td>\n",
              "      <td>-0.902615</td>\n",
              "      <td>-0.610708</td>\n",
              "    </tr>\n",
              "  </tbody>\n",
              "</table>\n",
              "</div>"
            ],
            "text/plain": [
              "        Unnamed: 0  attitude.roll  ...  userAcceleration.y  userAcceleration.z\n",
              "count  1072.000000    1072.000000  ...         1072.000000         1072.000000\n",
              "mean    535.500000      -1.284642  ...            0.201263            0.095319\n",
              "std     309.604048       0.851451  ...            1.532151            1.130814\n",
              "min       0.000000      -3.049649  ...           -2.546883           -4.517324\n",
              "25%     267.750000      -2.092390  ...           -0.902615           -0.610708\n",
              "\n",
              "[5 rows x 13 columns]"
            ]
          },
          "metadata": {
            "tags": []
          },
          "execution_count": 4
        }
      ]
    },
    {
      "cell_type": "code",
      "metadata": {
        "id": "sJiu3Zdg5nVo",
        "outputId": "f31ff579-8fc2-4b5b-d330-054a59df2e32",
        "colab": {
          "base_uri": "https://localhost:8080/",
          "height": 118
        }
      },
      "source": [
        "def MediaAbsDes(label):\n",
        "  SumaAbs = abs(Test[label] - Test[label].mean())\n",
        "  tBodyAcc_mad = 0\n",
        "  for i in SumaAbs:\n",
        "    tBodyAcc_mad = tBodyAcc_mad + i\n",
        "  tBodyAcc_mad = tBodyAcc_mad/Test[label].count()\n",
        "  return tBodyAcc_mad\n",
        "\n",
        "def SigMagArea(label):\n",
        "  Pot_x = Test[label+\"x\"]*Test[label+\"x\"]\n",
        "  Pot_y = Test[label+\"y\"]*Test[label+\"y\"]\n",
        "  Pot_z = Test[label+\"z\"]*Test[label+\"z\"]\n",
        "  Sum = Pot_z+Pot_y+Pot_x\n",
        "  Mag = []\n",
        "  for i in Sum:\n",
        "    Mag.append(pow(i, 0.5))\n",
        "  SigArea = np.trapz(Mag,dx=0.001)\n",
        "  return SigArea\n",
        "\n",
        "line = pd.DataFrame(columns=(\"tBodyAcc-mean()-X\", \"tBodyAcc-mean()-Y\", \"tBodyAcc-mean()-Z\",\n",
        "                                 \"tBodyAcc-std()-X\", \"tBodyAcc-std()-Y\", \"tBodyAcc-std()-Z\",\n",
        "                                 \"tBodyAcc-mad()-X\", \"tBodyAcc-mad()-Y\", \"tBodyAcc-mad()-Z\",\n",
        "                                 \"tBodyAcc-max()-X\", \"tBodyAcc-max()-Y\", \"tBodyAcc-max()-Z\",\n",
        "                                 \"tBodyAcc-min()-X\", \"tBodyAcc-min()-Y\", \"tBodyAcc-min()-z\",\n",
        "                                 \"tBodyAcc-sma()\",\n",
        "                                 \"tGravityAcc-mean()-X\", \"tGravityAcc-mean()-Y\", \"tGravityAcc-mean()-Z\",\n",
        "                                 \"tGravityAcc-std()-X\",  \"tGravityAcc-std()-Y\",  \"tGravityAcc-std()-Z\",\n",
        "                                 \"tGravityAcc-mad()-X\",  \"tGravityAcc-mad()-Y\",  \"tGravityAcc-mad()-Z\",\n",
        "                                 \"tGravityAcc-max()-X\",  \"tGravityAcc-max()-Y\",  \"tGravityAcc-max()-Z\",\n",
        "                                 \"tGravityAcc-min()-X\",  \"tGravityAcc-min()-Y\",  \"tGravityAcc-min()-z\",\n",
        "                                 \"tGravityAcc-sma()\",\n",
        "                                 \"tBodyGyro-mean()-X\", \"tBodyGyro-mean()-Y\", \"tBodyGyro-mean()-Z\",\n",
        "                                 \"tBodyGyro-std()-X\",  \"tBodyGyro-std()-Y\",  \"tBodyGyro-std()-Z\",\n",
        "                                 \"tBodyGyro-mad()-X\",  \"tBodyGyro-mad()-Y\",  \"tBodyGyro-mad()-Z\",\n",
        "                                 \"tBodyGyro-max()-X\",  \"tBodyGyro-max()-Y\",  \"tBodyGyro-max()-Z\",\n",
        "                                 \"tBodyGyro-min()-X\",  \"tBodyGyro-min()-Y\",  \"tBodyGyro-min()-z\",\n",
        "                                 \"tBodyGyro-sma()\",                                 \n",
        "                                 )\n",
        "                        )\n",
        "tBodyAcc_madx = MediaAbsDes('userAcceleration.x')\n",
        "tBodyAcc_mady = MediaAbsDes('userAcceleration.y')\n",
        "tBodyAcc_madz = MediaAbsDes('userAcceleration.z')\n",
        "tBodyAcc_sma = SigMagArea('userAcceleration.')\n",
        "    \n",
        "tGravityAcc_madx = MediaAbsDes('gravity.x')\n",
        "tGravityAcc_mady = MediaAbsDes('gravity.y')\n",
        "tGravityAcc_madz = MediaAbsDes('gravity.z')\n",
        "tGravityAcc_sma = SigMagArea('gravity.')\n",
        "    \n",
        "tBodyGyro_madx = MediaAbsDes('rotationRate.x')\n",
        "tBodyGyro_mady = MediaAbsDes('rotationRate.y')\n",
        "tBodyGyro_madz = MediaAbsDes('rotationRate.z')\n",
        "tBodyGyro_sma = SigMagArea('rotationRate.') \n",
        "\n",
        "line.loc[len(line)] = [Test['userAcceleration.x'].mean(), Test['userAcceleration.y'].mean(), Test['userAcceleration.z'].mean(),\n",
        "                            Test['userAcceleration.x'].std(), Test['userAcceleration.y'].std(), Test['userAcceleration.z'].std(),\n",
        "                            tBodyAcc_madx, tBodyAcc_mady, tBodyAcc_madz,\n",
        "                            Test['userAcceleration.x'].max(), Test['userAcceleration.y'].max(), Test['userAcceleration.z'].max(),\n",
        "                            Test['userAcceleration.x'].min(), Test['userAcceleration.y'].min(), Test['userAcceleration.z'].min(),\n",
        "                            tBodyAcc_sma,\n",
        "                            Test['gravity.x'].mean(), Test['gravity.y'].mean(), Test['gravity.z'].mean(),\n",
        "                            Test['gravity.x'].std(),  Test['gravity.y'].std(),  Test['gravity.z'].std(),\n",
        "                            tBodyAcc_madx, tBodyAcc_mady, tBodyAcc_madz,\n",
        "                            Test['gravity.x'].max(), Test['gravity.y'].max(), Test['gravity.z'].max(),\n",
        "                            Test['gravity.x'].min(), Test['gravity.y'].min(), Test['gravity.z'].min(),\n",
        "                            tBodyAcc_sma,\n",
        "                            Test['rotationRate.x'].mean(), Test['rotationRate.y'].mean(), Test['rotationRate.z'].mean(),\n",
        "                            Test['rotationRate.x'].std(),  Test['rotationRate.y'].std(),  Test['rotationRate.z'].std(),\n",
        "                            tBodyAcc_madx, tBodyAcc_mady, tBodyAcc_madz,\n",
        "                            Test['userAcceleration.x'].max(), Test['userAcceleration.y'].max(), Test['userAcceleration.z'].max(),\n",
        "                            Test['userAcceleration.x'].min(), Test['userAcceleration.y'].min(), Test['userAcceleration.z'].min(),\n",
        "                            tBodyAcc_sma\n",
        "    ]\n",
        "line.head()\n"
      ],
      "execution_count": null,
      "outputs": [
        {
          "output_type": "execute_result",
          "data": {
            "text/html": [
              "<div>\n",
              "<style scoped>\n",
              "    .dataframe tbody tr th:only-of-type {\n",
              "        vertical-align: middle;\n",
              "    }\n",
              "\n",
              "    .dataframe tbody tr th {\n",
              "        vertical-align: top;\n",
              "    }\n",
              "\n",
              "    .dataframe thead th {\n",
              "        text-align: right;\n",
              "    }\n",
              "</style>\n",
              "<table border=\"1\" class=\"dataframe\">\n",
              "  <thead>\n",
              "    <tr style=\"text-align: right;\">\n",
              "      <th></th>\n",
              "      <th>tBodyAcc-mean()-X</th>\n",
              "      <th>tBodyAcc-mean()-Y</th>\n",
              "      <th>tBodyAcc-mean()-Z</th>\n",
              "      <th>tBodyAcc-std()-X</th>\n",
              "      <th>tBodyAcc-std()-Y</th>\n",
              "      <th>tBodyAcc-std()-Z</th>\n",
              "      <th>tBodyAcc-mad()-X</th>\n",
              "      <th>tBodyAcc-mad()-Y</th>\n",
              "      <th>tBodyAcc-mad()-Z</th>\n",
              "      <th>tBodyAcc-max()-X</th>\n",
              "      <th>tBodyAcc-max()-Y</th>\n",
              "      <th>tBodyAcc-max()-Z</th>\n",
              "      <th>tBodyAcc-min()-X</th>\n",
              "      <th>tBodyAcc-min()-Y</th>\n",
              "      <th>tBodyAcc-min()-z</th>\n",
              "      <th>tBodyAcc-sma()</th>\n",
              "      <th>tGravityAcc-mean()-X</th>\n",
              "      <th>tGravityAcc-mean()-Y</th>\n",
              "      <th>tGravityAcc-mean()-Z</th>\n",
              "      <th>tGravityAcc-std()-X</th>\n",
              "      <th>tGravityAcc-std()-Y</th>\n",
              "      <th>tGravityAcc-std()-Z</th>\n",
              "      <th>tGravityAcc-mad()-X</th>\n",
              "      <th>tGravityAcc-mad()-Y</th>\n",
              "      <th>tGravityAcc-mad()-Z</th>\n",
              "      <th>tGravityAcc-max()-X</th>\n",
              "      <th>tGravityAcc-max()-Y</th>\n",
              "      <th>tGravityAcc-max()-Z</th>\n",
              "      <th>tGravityAcc-min()-X</th>\n",
              "      <th>tGravityAcc-min()-Y</th>\n",
              "      <th>tGravityAcc-min()-z</th>\n",
              "      <th>tGravityAcc-sma()</th>\n",
              "      <th>tBodyGyro-mean()-X</th>\n",
              "      <th>tBodyGyro-mean()-Y</th>\n",
              "      <th>tBodyGyro-mean()-Z</th>\n",
              "      <th>tBodyGyro-std()-X</th>\n",
              "      <th>tBodyGyro-std()-Y</th>\n",
              "      <th>tBodyGyro-std()-Z</th>\n",
              "      <th>tBodyGyro-mad()-X</th>\n",
              "      <th>tBodyGyro-mad()-Y</th>\n",
              "      <th>tBodyGyro-mad()-Z</th>\n",
              "      <th>tBodyGyro-max()-X</th>\n",
              "      <th>tBodyGyro-max()-Y</th>\n",
              "      <th>tBodyGyro-max()-Z</th>\n",
              "      <th>tBodyGyro-min()-X</th>\n",
              "      <th>tBodyGyro-min()-Y</th>\n",
              "      <th>tBodyGyro-min()-z</th>\n",
              "      <th>tBodyGyro-sma()</th>\n",
              "    </tr>\n",
              "  </thead>\n",
              "  <tbody>\n",
              "    <tr>\n",
              "      <th>0</th>\n",
              "      <td>0.046963</td>\n",
              "      <td>0.201263</td>\n",
              "      <td>0.095319</td>\n",
              "      <td>0.893266</td>\n",
              "      <td>1.532151</td>\n",
              "      <td>1.130814</td>\n",
              "      <td>0.651719</td>\n",
              "      <td>1.226897</td>\n",
              "      <td>0.871196</td>\n",
              "      <td>2.556985</td>\n",
              "      <td>6.256442</td>\n",
              "      <td>4.738638</td>\n",
              "      <td>-4.764206</td>\n",
              "      <td>-2.546883</td>\n",
              "      <td>-4.517324</td>\n",
              "      <td>1.971032</td>\n",
              "      <td>-0.232285</td>\n",
              "      <td>0.913055</td>\n",
              "      <td>-0.08714</td>\n",
              "      <td>0.100187</td>\n",
              "      <td>0.064234</td>\n",
              "      <td>0.301182</td>\n",
              "      <td>0.651719</td>\n",
              "      <td>1.226897</td>\n",
              "      <td>0.871196</td>\n",
              "      <td>0.034518</td>\n",
              "      <td>0.999904</td>\n",
              "      <td>0.543646</td>\n",
              "      <td>-0.596629</td>\n",
              "      <td>0.631297</td>\n",
              "      <td>-0.718198</td>\n",
              "      <td>1.971032</td>\n",
              "      <td>0.077484</td>\n",
              "      <td>-0.097097</td>\n",
              "      <td>-0.007248</td>\n",
              "      <td>3.27707</td>\n",
              "      <td>3.286686</td>\n",
              "      <td>1.545825</td>\n",
              "      <td>0.651719</td>\n",
              "      <td>1.226897</td>\n",
              "      <td>0.871196</td>\n",
              "      <td>2.556985</td>\n",
              "      <td>6.256442</td>\n",
              "      <td>4.738638</td>\n",
              "      <td>-4.764206</td>\n",
              "      <td>-2.546883</td>\n",
              "      <td>-4.517324</td>\n",
              "      <td>1.971032</td>\n",
              "    </tr>\n",
              "  </tbody>\n",
              "</table>\n",
              "</div>"
            ],
            "text/plain": [
              "   tBodyAcc-mean()-X  tBodyAcc-mean()-Y  ...  tBodyGyro-min()-z  tBodyGyro-sma()\n",
              "0           0.046963           0.201263  ...          -4.517324         1.971032\n",
              "\n",
              "[1 rows x 48 columns]"
            ]
          },
          "metadata": {
            "tags": []
          },
          "execution_count": 56
        }
      ]
    },
    {
      "cell_type": "code",
      "metadata": {
        "id": "M8pq76cK68nA",
        "outputId": "070531b5-32c3-4292-dc3a-45d52940945d",
        "colab": {
          "base_uri": "https://localhost:8080/",
          "height": 35
        }
      },
      "source": [
        "act=red.predict(line)\n",
        "#actividad=actividad[0]\n",
        "#actividad=np.argmax(line)\n",
        "act"
      ],
      "execution_count": null,
      "outputs": [
        {
          "output_type": "execute_result",
          "data": {
            "text/plain": [
              "array([[0., 0., 0., 0., 1., 0.]], dtype=float32)"
            ]
          },
          "metadata": {
            "tags": []
          },
          "execution_count": 57
        }
      ]
    },
    {
      "cell_type": "code",
      "metadata": {
        "id": "4Qq1_8hi7gSN"
      },
      "source": [
        "from sklearn.model_selection import train_test_split"
      ],
      "execution_count": null,
      "outputs": []
    },
    {
      "cell_type": "markdown",
      "metadata": {
        "id": "4LUIDbnje0Hj"
      },
      "source": [
        "###Modelo 3"
      ]
    },
    {
      "cell_type": "code",
      "metadata": {
        "id": "TYBvQWxlWGHg",
        "outputId": "b896b58d-9c9f-428e-f2f2-e541a15af4fa",
        "colab": {
          "base_uri": "https://localhost:8080/",
          "height": 243
        }
      },
      "source": [
        "df=pd.read_csv(PATH_2+\"Data/Organice.csv\")\n",
        "df.head()\n"
      ],
      "execution_count": null,
      "outputs": [
        {
          "output_type": "execute_result",
          "data": {
            "text/html": [
              "<div>\n",
              "<style scoped>\n",
              "    .dataframe tbody tr th:only-of-type {\n",
              "        vertical-align: middle;\n",
              "    }\n",
              "\n",
              "    .dataframe tbody tr th {\n",
              "        vertical-align: top;\n",
              "    }\n",
              "\n",
              "    .dataframe thead th {\n",
              "        text-align: right;\n",
              "    }\n",
              "</style>\n",
              "<table border=\"1\" class=\"dataframe\">\n",
              "  <thead>\n",
              "    <tr style=\"text-align: right;\">\n",
              "      <th></th>\n",
              "      <th>Unnamed: 0</th>\n",
              "      <th>Unnamed: 0.1</th>\n",
              "      <th>tBodyAcc-mean()-X</th>\n",
              "      <th>tBodyAcc-mean()-Y</th>\n",
              "      <th>tBodyAcc-mean()-Z</th>\n",
              "      <th>tBodyAcc-std()-X</th>\n",
              "      <th>tBodyAcc-std()-Y</th>\n",
              "      <th>tBodyAcc-std()-Z</th>\n",
              "      <th>tBodyAcc-mad()-X</th>\n",
              "      <th>tBodyAcc-mad()-Y</th>\n",
              "      <th>tBodyAcc-mad()-Z</th>\n",
              "      <th>tBodyAcc-max()-X</th>\n",
              "      <th>tBodyAcc-max()-Y</th>\n",
              "      <th>tBodyAcc-max()-Z</th>\n",
              "      <th>tBodyAcc-min()-X</th>\n",
              "      <th>tBodyAcc-min()-Y</th>\n",
              "      <th>tBodyAcc-min()-z</th>\n",
              "      <th>tBodyAcc-sma()</th>\n",
              "      <th>tGravityAcc-mean()-X</th>\n",
              "      <th>tGravityAcc-mean()-Y</th>\n",
              "      <th>tGravityAcc-mean()-Z</th>\n",
              "      <th>tGravityAcc-std()-X</th>\n",
              "      <th>tGravityAcc-std()-Y</th>\n",
              "      <th>tGravityAcc-std()-Z</th>\n",
              "      <th>tGravityAcc-mad()-X</th>\n",
              "      <th>tGravityAcc-mad()-Y</th>\n",
              "      <th>tGravityAcc-mad()-Z</th>\n",
              "      <th>tGravityAcc-max()-X</th>\n",
              "      <th>tGravityAcc-max()-Y</th>\n",
              "      <th>tGravityAcc-max()-Z</th>\n",
              "      <th>tGravityAcc-min()-X</th>\n",
              "      <th>tGravityAcc-min()-Y</th>\n",
              "      <th>tGravityAcc-min()-z</th>\n",
              "      <th>tGravityAcc-sma()</th>\n",
              "      <th>tBodyGyro-mean()-X</th>\n",
              "      <th>tBodyGyro-mean()-Y</th>\n",
              "      <th>tBodyGyro-mean()-Z</th>\n",
              "      <th>tBodyGyro-std()-X</th>\n",
              "      <th>tBodyGyro-std()-Y</th>\n",
              "      <th>tBodyGyro-std()-Z</th>\n",
              "      <th>tBodyGyro-mad()-X</th>\n",
              "      <th>tBodyGyro-mad()-Y</th>\n",
              "      <th>tBodyGyro-mad()-Z</th>\n",
              "      <th>tBodyGyro-max()-X</th>\n",
              "      <th>tBodyGyro-max()-Y</th>\n",
              "      <th>tBodyGyro-max()-Z</th>\n",
              "      <th>tBodyGyro-min()-X</th>\n",
              "      <th>tBodyGyro-min()-Y</th>\n",
              "      <th>tBodyGyro-min()-z</th>\n",
              "      <th>tBodyGyro-sma()</th>\n",
              "      <th>activity</th>\n",
              "      <th>Subject</th>\n",
              "    </tr>\n",
              "  </thead>\n",
              "  <tbody>\n",
              "    <tr>\n",
              "      <th>0</th>\n",
              "      <td>0</td>\n",
              "      <td>1</td>\n",
              "      <td>0.062493</td>\n",
              "      <td>-0.001832</td>\n",
              "      <td>0.062361</td>\n",
              "      <td>0.343783</td>\n",
              "      <td>0.295011</td>\n",
              "      <td>0.327470</td>\n",
              "      <td>0.265936</td>\n",
              "      <td>0.224217</td>\n",
              "      <td>0.259506</td>\n",
              "      <td>1.760975</td>\n",
              "      <td>1.549614</td>\n",
              "      <td>0.953478</td>\n",
              "      <td>-1.398820</td>\n",
              "      <td>-0.735431</td>\n",
              "      <td>-1.114514</td>\n",
              "      <td>0.877063</td>\n",
              "      <td>0.745272</td>\n",
              "      <td>0.604755</td>\n",
              "      <td>-0.141934</td>\n",
              "      <td>0.097532</td>\n",
              "      <td>0.120785</td>\n",
              "      <td>0.186086</td>\n",
              "      <td>0.265936</td>\n",
              "      <td>0.224217</td>\n",
              "      <td>0.259506</td>\n",
              "      <td>0.911532</td>\n",
              "      <td>0.856268</td>\n",
              "      <td>0.293529</td>\n",
              "      <td>0.500776</td>\n",
              "      <td>0.346594</td>\n",
              "      <td>-0.552549</td>\n",
              "      <td>0.877063</td>\n",
              "      <td>-0.313635</td>\n",
              "      <td>-0.245480</td>\n",
              "      <td>0.141903</td>\n",
              "      <td>1.079116</td>\n",
              "      <td>1.964371</td>\n",
              "      <td>0.702076</td>\n",
              "      <td>0.265936</td>\n",
              "      <td>0.224217</td>\n",
              "      <td>0.259506</td>\n",
              "      <td>1.760975</td>\n",
              "      <td>1.549614</td>\n",
              "      <td>0.953478</td>\n",
              "      <td>-1.398820</td>\n",
              "      <td>-0.735431</td>\n",
              "      <td>-1.114514</td>\n",
              "      <td>0.877063</td>\n",
              "      <td>walking_downstairs</td>\n",
              "      <td>1</td>\n",
              "    </tr>\n",
              "    <tr>\n",
              "      <th>1</th>\n",
              "      <td>1</td>\n",
              "      <td>2</td>\n",
              "      <td>0.054399</td>\n",
              "      <td>0.038012</td>\n",
              "      <td>0.044710</td>\n",
              "      <td>0.278013</td>\n",
              "      <td>0.432882</td>\n",
              "      <td>0.368502</td>\n",
              "      <td>0.216892</td>\n",
              "      <td>0.331767</td>\n",
              "      <td>0.282965</td>\n",
              "      <td>1.252113</td>\n",
              "      <td>2.335580</td>\n",
              "      <td>1.395295</td>\n",
              "      <td>-0.686280</td>\n",
              "      <td>-1.343249</td>\n",
              "      <td>-2.978514</td>\n",
              "      <td>1.167329</td>\n",
              "      <td>0.164360</td>\n",
              "      <td>0.938075</td>\n",
              "      <td>-0.228186</td>\n",
              "      <td>0.065884</td>\n",
              "      <td>0.045575</td>\n",
              "      <td>0.185790</td>\n",
              "      <td>0.216892</td>\n",
              "      <td>0.331767</td>\n",
              "      <td>0.282965</td>\n",
              "      <td>0.350123</td>\n",
              "      <td>0.996035</td>\n",
              "      <td>0.305808</td>\n",
              "      <td>-0.044268</td>\n",
              "      <td>0.774339</td>\n",
              "      <td>-0.631297</td>\n",
              "      <td>1.167329</td>\n",
              "      <td>-0.036648</td>\n",
              "      <td>-0.334969</td>\n",
              "      <td>0.113063</td>\n",
              "      <td>1.535199</td>\n",
              "      <td>1.743561</td>\n",
              "      <td>0.615815</td>\n",
              "      <td>0.216892</td>\n",
              "      <td>0.331767</td>\n",
              "      <td>0.282965</td>\n",
              "      <td>1.252113</td>\n",
              "      <td>2.335580</td>\n",
              "      <td>1.395295</td>\n",
              "      <td>-0.686280</td>\n",
              "      <td>-1.343249</td>\n",
              "      <td>-2.978514</td>\n",
              "      <td>1.167329</td>\n",
              "      <td>walking_downstairs</td>\n",
              "      <td>2</td>\n",
              "    </tr>\n",
              "    <tr>\n",
              "      <th>2</th>\n",
              "      <td>2</td>\n",
              "      <td>3</td>\n",
              "      <td>0.037259</td>\n",
              "      <td>0.009115</td>\n",
              "      <td>0.010426</td>\n",
              "      <td>0.197836</td>\n",
              "      <td>0.418848</td>\n",
              "      <td>0.167822</td>\n",
              "      <td>0.153698</td>\n",
              "      <td>0.335672</td>\n",
              "      <td>0.129454</td>\n",
              "      <td>0.868865</td>\n",
              "      <td>2.187013</td>\n",
              "      <td>1.077647</td>\n",
              "      <td>-0.659297</td>\n",
              "      <td>-1.175966</td>\n",
              "      <td>-0.727667</td>\n",
              "      <td>0.979456</td>\n",
              "      <td>0.231165</td>\n",
              "      <td>0.953609</td>\n",
              "      <td>-0.127939</td>\n",
              "      <td>0.082217</td>\n",
              "      <td>0.025297</td>\n",
              "      <td>0.115869</td>\n",
              "      <td>0.153698</td>\n",
              "      <td>0.335672</td>\n",
              "      <td>0.129454</td>\n",
              "      <td>0.367038</td>\n",
              "      <td>0.999664</td>\n",
              "      <td>0.271128</td>\n",
              "      <td>-0.006696</td>\n",
              "      <td>0.863391</td>\n",
              "      <td>-0.407423</td>\n",
              "      <td>0.979456</td>\n",
              "      <td>-0.052527</td>\n",
              "      <td>-0.334982</td>\n",
              "      <td>0.062300</td>\n",
              "      <td>0.819125</td>\n",
              "      <td>0.869482</td>\n",
              "      <td>0.416013</td>\n",
              "      <td>0.153698</td>\n",
              "      <td>0.335672</td>\n",
              "      <td>0.129454</td>\n",
              "      <td>0.868865</td>\n",
              "      <td>2.187013</td>\n",
              "      <td>1.077647</td>\n",
              "      <td>-0.659297</td>\n",
              "      <td>-1.175966</td>\n",
              "      <td>-0.727667</td>\n",
              "      <td>0.979456</td>\n",
              "      <td>walking_downstairs</td>\n",
              "      <td>3</td>\n",
              "    </tr>\n",
              "    <tr>\n",
              "      <th>3</th>\n",
              "      <td>3</td>\n",
              "      <td>4</td>\n",
              "      <td>0.084948</td>\n",
              "      <td>0.131560</td>\n",
              "      <td>0.002137</td>\n",
              "      <td>0.430478</td>\n",
              "      <td>0.635430</td>\n",
              "      <td>0.730588</td>\n",
              "      <td>0.335604</td>\n",
              "      <td>0.452131</td>\n",
              "      <td>0.561161</td>\n",
              "      <td>2.175775</td>\n",
              "      <td>4.795959</td>\n",
              "      <td>3.569844</td>\n",
              "      <td>-1.567188</td>\n",
              "      <td>-1.413092</td>\n",
              "      <td>-4.622187</td>\n",
              "      <td>1.742504</td>\n",
              "      <td>-0.111635</td>\n",
              "      <td>0.939830</td>\n",
              "      <td>-0.067831</td>\n",
              "      <td>0.145950</td>\n",
              "      <td>0.055857</td>\n",
              "      <td>0.274367</td>\n",
              "      <td>0.335604</td>\n",
              "      <td>0.452131</td>\n",
              "      <td>0.561161</td>\n",
              "      <td>0.294939</td>\n",
              "      <td>0.999947</td>\n",
              "      <td>0.582521</td>\n",
              "      <td>-0.488580</td>\n",
              "      <td>0.712623</td>\n",
              "      <td>-0.668649</td>\n",
              "      <td>1.742504</td>\n",
              "      <td>0.066531</td>\n",
              "      <td>-0.374688</td>\n",
              "      <td>0.101141</td>\n",
              "      <td>2.005602</td>\n",
              "      <td>2.168470</td>\n",
              "      <td>0.925931</td>\n",
              "      <td>0.335604</td>\n",
              "      <td>0.452131</td>\n",
              "      <td>0.561161</td>\n",
              "      <td>2.175775</td>\n",
              "      <td>4.795959</td>\n",
              "      <td>3.569844</td>\n",
              "      <td>-1.567188</td>\n",
              "      <td>-1.413092</td>\n",
              "      <td>-4.622187</td>\n",
              "      <td>1.742504</td>\n",
              "      <td>walking_downstairs</td>\n",
              "      <td>4</td>\n",
              "    </tr>\n",
              "    <tr>\n",
              "      <th>4</th>\n",
              "      <td>4</td>\n",
              "      <td>5</td>\n",
              "      <td>-0.035430</td>\n",
              "      <td>0.013390</td>\n",
              "      <td>-0.025111</td>\n",
              "      <td>0.220211</td>\n",
              "      <td>0.406248</td>\n",
              "      <td>0.226170</td>\n",
              "      <td>0.167262</td>\n",
              "      <td>0.305447</td>\n",
              "      <td>0.172831</td>\n",
              "      <td>0.920563</td>\n",
              "      <td>2.383387</td>\n",
              "      <td>0.759159</td>\n",
              "      <td>-1.372518</td>\n",
              "      <td>-1.205033</td>\n",
              "      <td>-1.530437</td>\n",
              "      <td>0.965099</td>\n",
              "      <td>-0.155962</td>\n",
              "      <td>0.933577</td>\n",
              "      <td>0.238797</td>\n",
              "      <td>0.099058</td>\n",
              "      <td>0.056368</td>\n",
              "      <td>0.184613</td>\n",
              "      <td>0.167262</td>\n",
              "      <td>0.305447</td>\n",
              "      <td>0.172831</td>\n",
              "      <td>0.107513</td>\n",
              "      <td>0.999982</td>\n",
              "      <td>0.542068</td>\n",
              "      <td>-0.701947</td>\n",
              "      <td>0.465827</td>\n",
              "      <td>-0.594544</td>\n",
              "      <td>0.965099</td>\n",
              "      <td>0.011575</td>\n",
              "      <td>-0.349338</td>\n",
              "      <td>-0.084188</td>\n",
              "      <td>1.060793</td>\n",
              "      <td>0.933363</td>\n",
              "      <td>0.537218</td>\n",
              "      <td>0.167262</td>\n",
              "      <td>0.305447</td>\n",
              "      <td>0.172831</td>\n",
              "      <td>0.920563</td>\n",
              "      <td>2.383387</td>\n",
              "      <td>0.759159</td>\n",
              "      <td>-1.372518</td>\n",
              "      <td>-1.205033</td>\n",
              "      <td>-1.530437</td>\n",
              "      <td>0.965099</td>\n",
              "      <td>walking_downstairs</td>\n",
              "      <td>5</td>\n",
              "    </tr>\n",
              "  </tbody>\n",
              "</table>\n",
              "</div>"
            ],
            "text/plain": [
              "   Unnamed: 0  Unnamed: 0.1  ...            activity  Subject\n",
              "0           0             1  ...  walking_downstairs        1\n",
              "1           1             2  ...  walking_downstairs        2\n",
              "2           2             3  ...  walking_downstairs        3\n",
              "3           3             4  ...  walking_downstairs        4\n",
              "4           4             5  ...  walking_downstairs        5\n",
              "\n",
              "[5 rows x 52 columns]"
            ]
          },
          "metadata": {
            "tags": []
          },
          "execution_count": 5
        }
      ]
    },
    {
      "cell_type": "code",
      "metadata": {
        "id": "vZ3rWmxQe5Ec"
      },
      "source": [
        "from sklearn.model_selection import train_test_split\n",
        "\n",
        "train, test = train_test_split(df, test_size=0.3)\n",
        "train.to_csv(PATH_2+\"Data/train.csv\",index=False)\n",
        "test.to_csv(PATH_2+\"Data/test.csv\",index=False)\n",
        "train.activity."
      ],
      "execution_count": null,
      "outputs": []
    },
    {
      "cell_type": "code",
      "metadata": {
        "id": "Hj8Q6wyRjYBU"
      },
      "source": [
        "training_in=train.iloc[:,2:50]\n",
        "training_out=train.iloc[:,0:51]\n"
      ],
      "execution_count": null,
      "outputs": []
    },
    {
      "cell_type": "code",
      "metadata": {
        "id": "IIYHVQW1jwKf"
      },
      "source": [
        "from sklearn import preprocessing\n",
        "from sklearn.preprocessing import OneHotEncoder\n",
        "from keras.models import Sequential\n",
        "from keras.layers import Dense, Activation\n",
        "from keras.utils import to_categorical\n",
        "\n",
        "DataIn=train.iloc[:,2:50]\n",
        "DataTest=test.iloc[:,2:50]\n",
        "\n",
        "le=preprocessing.LabelEncoder()\n",
        "\n",
        "le.fit(train['activity'])\n",
        "etiqueta=list(le.classes_)\n",
        "\n",
        "DataOutput=le.transform(train['activity'])\n",
        "DataOutput=to_categorical(DataOutput)\n",
        "\n",
        "DTestOut=le.transform(test['activity'])\n",
        "DTestOut=to_categorical(DTestOut)\n",
        "\n",
        "inputdim=DataIn.shape[1]\n",
        "outputdim=DataOutput.shape[1]\n",
        "\n"
      ],
      "execution_count": null,
      "outputs": []
    },
    {
      "cell_type": "code",
      "metadata": {
        "id": "blPx6hHelfZz"
      },
      "source": [
        "##Red Neuronal \n",
        "model01= Sequential () \n",
        "model01.add(Dense(units=250, activation='relu', input_dim=inputdim))\n",
        "model01.add(Dense(units=250, activation='relu', input_dim=250))\n",
        "model01.add(Dense(units=250, activation='relu', input_dim=250))\n",
        "model01.add(Dense(units=outputdim, activation='softmax'))\n",
        "\n"
      ],
      "execution_count": null,
      "outputs": []
    },
    {
      "cell_type": "code",
      "metadata": {
        "id": "X4tZcPQfmyoB",
        "outputId": "1089140a-1916-4316-87f1-75f43bdefed9",
        "colab": {
          "base_uri": "https://localhost:8080/",
          "height": 1000
        }
      },
      "source": [
        "model01.compile(optimizer='adadelta',loss='categorical_crossentropy',metrics=['accuracy'])\n",
        "\n",
        "history01 = model01.fit(DataIn,DataOutput, epochs=100, batch_size=150, validation_split=0.001, shuffle=False)"
      ],
      "execution_count": null,
      "outputs": [
        {
          "output_type": "stream",
          "text": [
            "Train on 251 samples, validate on 1 samples\n",
            "Epoch 1/100\n",
            "251/251 [==============================] - 0s 2ms/step - loss: 1.6850 - accuracy: 0.1554 - val_loss: 1.4593 - val_accuracy: 1.0000\n",
            "Epoch 2/100\n",
            "251/251 [==============================] - 0s 101us/step - loss: 1.5265 - accuracy: 0.3705 - val_loss: 1.2888 - val_accuracy: 1.0000\n",
            "Epoch 3/100\n",
            "251/251 [==============================] - 0s 99us/step - loss: 1.4533 - accuracy: 0.5020 - val_loss: 1.2333 - val_accuracy: 1.0000\n",
            "Epoch 4/100\n",
            "251/251 [==============================] - 0s 109us/step - loss: 1.2956 - accuracy: 0.6135 - val_loss: 1.1544 - val_accuracy: 1.0000\n",
            "Epoch 5/100\n",
            "251/251 [==============================] - 0s 90us/step - loss: 1.2133 - accuracy: 0.6056 - val_loss: 1.1183 - val_accuracy: 1.0000\n",
            "Epoch 6/100\n",
            "251/251 [==============================] - 0s 95us/step - loss: 1.1285 - accuracy: 0.6096 - val_loss: 0.9964 - val_accuracy: 1.0000\n",
            "Epoch 7/100\n",
            "251/251 [==============================] - 0s 105us/step - loss: 1.0018 - accuracy: 0.6414 - val_loss: 0.8376 - val_accuracy: 1.0000\n",
            "Epoch 8/100\n",
            "251/251 [==============================] - 0s 96us/step - loss: 0.8907 - accuracy: 0.6813 - val_loss: 0.7181 - val_accuracy: 1.0000\n",
            "Epoch 9/100\n",
            "251/251 [==============================] - 0s 109us/step - loss: 0.7873 - accuracy: 0.7131 - val_loss: 0.5646 - val_accuracy: 1.0000\n",
            "Epoch 10/100\n",
            "251/251 [==============================] - 0s 95us/step - loss: 0.8940 - accuracy: 0.6255 - val_loss: 0.5906 - val_accuracy: 1.0000\n",
            "Epoch 11/100\n",
            "251/251 [==============================] - 0s 107us/step - loss: 1.1379 - accuracy: 0.6494 - val_loss: 0.4664 - val_accuracy: 1.0000\n",
            "Epoch 12/100\n",
            "251/251 [==============================] - 0s 101us/step - loss: 0.7146 - accuracy: 0.7291 - val_loss: 0.3073 - val_accuracy: 1.0000\n",
            "Epoch 13/100\n",
            "251/251 [==============================] - 0s 99us/step - loss: 0.6171 - accuracy: 0.7769 - val_loss: 0.1895 - val_accuracy: 1.0000\n",
            "Epoch 14/100\n",
            "251/251 [==============================] - 0s 102us/step - loss: 0.6516 - accuracy: 0.7291 - val_loss: 0.3116 - val_accuracy: 1.0000\n",
            "Epoch 15/100\n",
            "251/251 [==============================] - 0s 96us/step - loss: 0.4731 - accuracy: 0.8645 - val_loss: 0.2587 - val_accuracy: 1.0000\n",
            "Epoch 16/100\n",
            "251/251 [==============================] - 0s 104us/step - loss: 0.4442 - accuracy: 0.8725 - val_loss: 0.1802 - val_accuracy: 1.0000\n",
            "Epoch 17/100\n",
            "251/251 [==============================] - 0s 103us/step - loss: 1.0388 - accuracy: 0.6534 - val_loss: 0.4775 - val_accuracy: 1.0000\n",
            "Epoch 18/100\n",
            "251/251 [==============================] - 0s 121us/step - loss: 0.6119 - accuracy: 0.7689 - val_loss: 1.1003 - val_accuracy: 1.0000\n",
            "Epoch 19/100\n",
            "251/251 [==============================] - 0s 108us/step - loss: 0.5639 - accuracy: 0.8247 - val_loss: 0.6223 - val_accuracy: 1.0000\n",
            "Epoch 20/100\n",
            "251/251 [==============================] - 0s 92us/step - loss: 0.4763 - accuracy: 0.8406 - val_loss: 1.1264 - val_accuracy: 1.0000\n",
            "Epoch 21/100\n",
            "251/251 [==============================] - 0s 107us/step - loss: 0.5537 - accuracy: 0.7769 - val_loss: 0.2684 - val_accuracy: 1.0000\n",
            "Epoch 22/100\n",
            "251/251 [==============================] - 0s 100us/step - loss: 0.4449 - accuracy: 0.8446 - val_loss: 0.1195 - val_accuracy: 1.0000\n",
            "Epoch 23/100\n",
            "251/251 [==============================] - 0s 84us/step - loss: 0.4919 - accuracy: 0.7849 - val_loss: 0.0748 - val_accuracy: 1.0000\n",
            "Epoch 24/100\n",
            "251/251 [==============================] - 0s 97us/step - loss: 0.4331 - accuracy: 0.8327 - val_loss: 0.0642 - val_accuracy: 1.0000\n",
            "Epoch 25/100\n",
            "251/251 [==============================] - 0s 109us/step - loss: 0.4529 - accuracy: 0.8247 - val_loss: 0.0773 - val_accuracy: 1.0000\n",
            "Epoch 26/100\n",
            "251/251 [==============================] - 0s 110us/step - loss: 0.3076 - accuracy: 0.9044 - val_loss: 0.0651 - val_accuracy: 1.0000\n",
            "Epoch 27/100\n",
            "251/251 [==============================] - 0s 110us/step - loss: 0.2591 - accuracy: 0.9283 - val_loss: 0.0374 - val_accuracy: 1.0000\n",
            "Epoch 28/100\n",
            "251/251 [==============================] - 0s 99us/step - loss: 0.3985 - accuracy: 0.8327 - val_loss: 0.0397 - val_accuracy: 1.0000\n",
            "Epoch 29/100\n",
            "251/251 [==============================] - 0s 102us/step - loss: 0.5356 - accuracy: 0.7689 - val_loss: 0.5221 - val_accuracy: 1.0000\n",
            "Epoch 30/100\n",
            "251/251 [==============================] - 0s 118us/step - loss: 0.3946 - accuracy: 0.8566 - val_loss: 0.8494 - val_accuracy: 1.0000\n",
            "Epoch 31/100\n",
            "251/251 [==============================] - 0s 105us/step - loss: 0.4141 - accuracy: 0.8207 - val_loss: 0.2239 - val_accuracy: 1.0000\n",
            "Epoch 32/100\n",
            "251/251 [==============================] - 0s 111us/step - loss: 0.2810 - accuracy: 0.9084 - val_loss: 0.1354 - val_accuracy: 1.0000\n",
            "Epoch 33/100\n",
            "251/251 [==============================] - 0s 96us/step - loss: 0.2463 - accuracy: 0.9163 - val_loss: 0.0834 - val_accuracy: 1.0000\n",
            "Epoch 34/100\n",
            "251/251 [==============================] - 0s 100us/step - loss: 0.2556 - accuracy: 0.9044 - val_loss: 0.0566 - val_accuracy: 1.0000\n",
            "Epoch 35/100\n",
            "251/251 [==============================] - 0s 97us/step - loss: 0.3200 - accuracy: 0.8805 - val_loss: 0.0744 - val_accuracy: 1.0000\n",
            "Epoch 36/100\n",
            "251/251 [==============================] - 0s 100us/step - loss: 0.2715 - accuracy: 0.8884 - val_loss: 0.0753 - val_accuracy: 1.0000\n",
            "Epoch 37/100\n",
            "251/251 [==============================] - 0s 104us/step - loss: 0.1706 - accuracy: 0.9761 - val_loss: 0.0728 - val_accuracy: 1.0000\n",
            "Epoch 38/100\n",
            "251/251 [==============================] - 0s 95us/step - loss: 0.1512 - accuracy: 0.9681 - val_loss: 0.0764 - val_accuracy: 1.0000\n",
            "Epoch 39/100\n",
            "251/251 [==============================] - 0s 145us/step - loss: 0.1438 - accuracy: 0.9641 - val_loss: 0.0764 - val_accuracy: 1.0000\n",
            "Epoch 40/100\n",
            "251/251 [==============================] - 0s 118us/step - loss: 0.1336 - accuracy: 0.9641 - val_loss: 0.0718 - val_accuracy: 1.0000\n",
            "Epoch 41/100\n",
            "251/251 [==============================] - 0s 108us/step - loss: 0.1242 - accuracy: 0.9681 - val_loss: 0.0630 - val_accuracy: 1.0000\n",
            "Epoch 42/100\n",
            "251/251 [==============================] - 0s 96us/step - loss: 0.1214 - accuracy: 0.9761 - val_loss: 0.0468 - val_accuracy: 1.0000\n",
            "Epoch 43/100\n",
            "251/251 [==============================] - 0s 100us/step - loss: 0.1481 - accuracy: 0.9522 - val_loss: 0.0366 - val_accuracy: 1.0000\n",
            "Epoch 44/100\n",
            "251/251 [==============================] - 0s 103us/step - loss: 0.3862 - accuracy: 0.8566 - val_loss: 0.0706 - val_accuracy: 1.0000\n",
            "Epoch 45/100\n",
            "251/251 [==============================] - 0s 94us/step - loss: 0.4170 - accuracy: 0.8406 - val_loss: 0.0789 - val_accuracy: 1.0000\n",
            "Epoch 46/100\n",
            "251/251 [==============================] - 0s 75us/step - loss: 0.1868 - accuracy: 0.9641 - val_loss: 0.0214 - val_accuracy: 1.0000\n",
            "Epoch 47/100\n",
            "251/251 [==============================] - 0s 105us/step - loss: 0.1505 - accuracy: 0.9801 - val_loss: 0.0115 - val_accuracy: 1.0000\n",
            "Epoch 48/100\n",
            "251/251 [==============================] - 0s 107us/step - loss: 0.1339 - accuracy: 0.9801 - val_loss: 0.0082 - val_accuracy: 1.0000\n",
            "Epoch 49/100\n",
            "251/251 [==============================] - 0s 95us/step - loss: 0.1173 - accuracy: 0.9761 - val_loss: 0.0093 - val_accuracy: 1.0000\n",
            "Epoch 50/100\n",
            "251/251 [==============================] - 0s 101us/step - loss: 0.0989 - accuracy: 0.9801 - val_loss: 0.0201 - val_accuracy: 1.0000\n",
            "Epoch 51/100\n",
            "251/251 [==============================] - 0s 96us/step - loss: 0.0884 - accuracy: 0.9761 - val_loss: 0.0330 - val_accuracy: 1.0000\n",
            "Epoch 52/100\n",
            "251/251 [==============================] - 0s 84us/step - loss: 0.0853 - accuracy: 0.9841 - val_loss: 0.0373 - val_accuracy: 1.0000\n",
            "Epoch 53/100\n",
            "251/251 [==============================] - 0s 104us/step - loss: 0.0824 - accuracy: 0.9841 - val_loss: 0.0375 - val_accuracy: 1.0000\n",
            "Epoch 54/100\n",
            "251/251 [==============================] - 0s 96us/step - loss: 0.0794 - accuracy: 0.9841 - val_loss: 0.0312 - val_accuracy: 1.0000\n",
            "Epoch 55/100\n",
            "251/251 [==============================] - 0s 102us/step - loss: 0.0747 - accuracy: 0.9841 - val_loss: 0.0248 - val_accuracy: 1.0000\n",
            "Epoch 56/100\n",
            "251/251 [==============================] - 0s 104us/step - loss: 0.0707 - accuracy: 0.9841 - val_loss: 0.0170 - val_accuracy: 1.0000\n",
            "Epoch 57/100\n",
            "251/251 [==============================] - 0s 102us/step - loss: 0.0679 - accuracy: 0.9841 - val_loss: 0.0131 - val_accuracy: 1.0000\n",
            "Epoch 58/100\n",
            "251/251 [==============================] - 0s 106us/step - loss: 0.0660 - accuracy: 0.9841 - val_loss: 0.0114 - val_accuracy: 1.0000\n",
            "Epoch 59/100\n",
            "251/251 [==============================] - 0s 93us/step - loss: 0.0639 - accuracy: 0.9920 - val_loss: 0.0107 - val_accuracy: 1.0000\n",
            "Epoch 60/100\n",
            "251/251 [==============================] - 0s 102us/step - loss: 0.0622 - accuracy: 0.9920 - val_loss: 0.0112 - val_accuracy: 1.0000\n",
            "Epoch 61/100\n",
            "251/251 [==============================] - 0s 104us/step - loss: 0.0595 - accuracy: 0.9920 - val_loss: 0.0114 - val_accuracy: 1.0000\n",
            "Epoch 62/100\n",
            "251/251 [==============================] - 0s 91us/step - loss: 0.0568 - accuracy: 0.9920 - val_loss: 0.0113 - val_accuracy: 1.0000\n",
            "Epoch 63/100\n",
            "251/251 [==============================] - 0s 101us/step - loss: 0.0548 - accuracy: 0.9920 - val_loss: 0.0110 - val_accuracy: 1.0000\n",
            "Epoch 64/100\n",
            "251/251 [==============================] - 0s 90us/step - loss: 0.0534 - accuracy: 0.9920 - val_loss: 0.0101 - val_accuracy: 1.0000\n",
            "Epoch 65/100\n",
            "251/251 [==============================] - 0s 89us/step - loss: 0.0522 - accuracy: 0.9920 - val_loss: 0.0085 - val_accuracy: 1.0000\n",
            "Epoch 66/100\n",
            "251/251 [==============================] - 0s 104us/step - loss: 0.0512 - accuracy: 0.9960 - val_loss: 0.0084 - val_accuracy: 1.0000\n",
            "Epoch 67/100\n",
            "251/251 [==============================] - 0s 118us/step - loss: 0.0499 - accuracy: 0.9960 - val_loss: 0.0077 - val_accuracy: 1.0000\n",
            "Epoch 68/100\n",
            "251/251 [==============================] - 0s 106us/step - loss: 0.0488 - accuracy: 0.9960 - val_loss: 0.0078 - val_accuracy: 1.0000\n",
            "Epoch 69/100\n",
            "251/251 [==============================] - 0s 100us/step - loss: 0.0487 - accuracy: 0.9960 - val_loss: 0.0076 - val_accuracy: 1.0000\n",
            "Epoch 70/100\n",
            "251/251 [==============================] - 0s 117us/step - loss: 0.0491 - accuracy: 0.9920 - val_loss: 0.0071 - val_accuracy: 1.0000\n",
            "Epoch 71/100\n",
            "251/251 [==============================] - 0s 93us/step - loss: 0.0533 - accuracy: 0.9920 - val_loss: 0.0060 - val_accuracy: 1.0000\n",
            "Epoch 72/100\n",
            "251/251 [==============================] - 0s 116us/step - loss: 0.0608 - accuracy: 0.9880 - val_loss: 0.0059 - val_accuracy: 1.0000\n",
            "Epoch 73/100\n",
            "251/251 [==============================] - 0s 99us/step - loss: 0.1187 - accuracy: 0.9562 - val_loss: 0.0116 - val_accuracy: 1.0000\n",
            "Epoch 74/100\n",
            "251/251 [==============================] - 0s 98us/step - loss: 0.3620 - accuracy: 0.8685 - val_loss: 0.0235 - val_accuracy: 1.0000\n",
            "Epoch 75/100\n",
            "251/251 [==============================] - 0s 96us/step - loss: 0.1548 - accuracy: 0.9522 - val_loss: 0.0130 - val_accuracy: 1.0000\n",
            "Epoch 76/100\n",
            "251/251 [==============================] - 0s 123us/step - loss: 0.1021 - accuracy: 0.9721 - val_loss: 0.0031 - val_accuracy: 1.0000\n",
            "Epoch 77/100\n",
            "251/251 [==============================] - 0s 100us/step - loss: 0.0577 - accuracy: 0.9801 - val_loss: 0.0067 - val_accuracy: 1.0000\n",
            "Epoch 78/100\n",
            "251/251 [==============================] - 0s 93us/step - loss: 0.0423 - accuracy: 0.9920 - val_loss: 0.0076 - val_accuracy: 1.0000\n",
            "Epoch 79/100\n",
            "251/251 [==============================] - 0s 95us/step - loss: 0.0387 - accuracy: 0.9920 - val_loss: 0.0069 - val_accuracy: 1.0000\n",
            "Epoch 80/100\n",
            "251/251 [==============================] - 0s 88us/step - loss: 0.0361 - accuracy: 0.9960 - val_loss: 0.0058 - val_accuracy: 1.0000\n",
            "Epoch 81/100\n",
            "251/251 [==============================] - 0s 92us/step - loss: 0.0344 - accuracy: 0.9960 - val_loss: 0.0044 - val_accuracy: 1.0000\n",
            "Epoch 82/100\n",
            "251/251 [==============================] - 0s 84us/step - loss: 0.0334 - accuracy: 0.9960 - val_loss: 0.0043 - val_accuracy: 1.0000\n",
            "Epoch 83/100\n",
            "251/251 [==============================] - 0s 108us/step - loss: 0.0323 - accuracy: 0.9960 - val_loss: 0.0041 - val_accuracy: 1.0000\n",
            "Epoch 84/100\n",
            "251/251 [==============================] - 0s 102us/step - loss: 0.0310 - accuracy: 0.9960 - val_loss: 0.0042 - val_accuracy: 1.0000\n",
            "Epoch 85/100\n",
            "251/251 [==============================] - 0s 98us/step - loss: 0.0301 - accuracy: 0.9960 - val_loss: 0.0036 - val_accuracy: 1.0000\n",
            "Epoch 86/100\n",
            "251/251 [==============================] - 0s 107us/step - loss: 0.0292 - accuracy: 0.9960 - val_loss: 0.0037 - val_accuracy: 1.0000\n",
            "Epoch 87/100\n",
            "251/251 [==============================] - 0s 114us/step - loss: 0.0289 - accuracy: 0.9960 - val_loss: 0.0032 - val_accuracy: 1.0000\n",
            "Epoch 88/100\n",
            "251/251 [==============================] - 0s 106us/step - loss: 0.0274 - accuracy: 0.9960 - val_loss: 0.0033 - val_accuracy: 1.0000\n",
            "Epoch 89/100\n",
            "251/251 [==============================] - 0s 108us/step - loss: 0.0272 - accuracy: 0.9960 - val_loss: 0.0026 - val_accuracy: 1.0000\n",
            "Epoch 90/100\n",
            "251/251 [==============================] - 0s 116us/step - loss: 0.0262 - accuracy: 0.9960 - val_loss: 0.0027 - val_accuracy: 1.0000\n",
            "Epoch 91/100\n",
            "251/251 [==============================] - 0s 76us/step - loss: 0.0255 - accuracy: 0.9960 - val_loss: 0.0026 - val_accuracy: 1.0000\n",
            "Epoch 92/100\n",
            "251/251 [==============================] - 0s 140us/step - loss: 0.0245 - accuracy: 0.9960 - val_loss: 0.0028 - val_accuracy: 1.0000\n",
            "Epoch 93/100\n",
            "251/251 [==============================] - 0s 97us/step - loss: 0.0237 - accuracy: 0.9960 - val_loss: 0.0024 - val_accuracy: 1.0000\n",
            "Epoch 94/100\n",
            "251/251 [==============================] - 0s 88us/step - loss: 0.0230 - accuracy: 0.9960 - val_loss: 0.0023 - val_accuracy: 1.0000\n",
            "Epoch 95/100\n",
            "251/251 [==============================] - 0s 109us/step - loss: 0.0225 - accuracy: 0.9960 - val_loss: 0.0025 - val_accuracy: 1.0000\n",
            "Epoch 96/100\n",
            "251/251 [==============================] - 0s 92us/step - loss: 0.0211 - accuracy: 0.9960 - val_loss: 0.0022 - val_accuracy: 1.0000\n",
            "Epoch 97/100\n",
            "251/251 [==============================] - 0s 106us/step - loss: 0.0213 - accuracy: 0.9960 - val_loss: 0.0018 - val_accuracy: 1.0000\n",
            "Epoch 98/100\n",
            "251/251 [==============================] - 0s 91us/step - loss: 0.0205 - accuracy: 0.9960 - val_loss: 0.0016 - val_accuracy: 1.0000\n",
            "Epoch 99/100\n",
            "251/251 [==============================] - 0s 106us/step - loss: 0.0206 - accuracy: 0.9960 - val_loss: 0.0015 - val_accuracy: 1.0000\n",
            "Epoch 100/100\n",
            "251/251 [==============================] - 0s 81us/step - loss: 0.0191 - accuracy: 0.9960 - val_loss: 0.0019 - val_accuracy: 1.0000\n"
          ],
          "name": "stdout"
        }
      ]
    },
    {
      "cell_type": "code",
      "metadata": {
        "id": "b6FSj54Em-nA",
        "outputId": "11a26e89-7085-445c-9c04-179d92fba2d7",
        "colab": {
          "base_uri": "https://localhost:8080/",
          "height": 128
        }
      },
      "source": [
        "Testpre= model01.predict(DataTest)\n",
        "\n",
        "from  sklearn.metrics import confusion_matrix\n",
        "\n",
        "Testpre=Testpre>= 0.5\n",
        "Testpre=Testpre + [0, 0, 0, 0, 0, 0]\n",
        "\n",
        "\n",
        "cm=confusion_matrix(DTestOut.argmax(axis=1),Testpre.argmax(axis=1))\n",
        "\n",
        "print(cm)\n"
      ],
      "execution_count": null,
      "outputs": [
        {
          "output_type": "stream",
          "text": [
            "[[13  0  0  2  0  0]\n",
            " [ 0  9  0  0  0  0]\n",
            " [ 0  0 17  0  0  0]\n",
            " [ 1  0  0 20  0  0]\n",
            " [ 1  0  0  0 28  0]\n",
            " [ 1  0  0  0  0 16]]\n"
          ],
          "name": "stdout"
        }
      ]
    },
    {
      "cell_type": "code",
      "metadata": {
        "id": "B-C_ZXC8pEiz",
        "outputId": "bb29e80d-d0db-4aa2-e554-cbf65b587c80",
        "colab": {
          "base_uri": "https://localhost:8080/",
          "height": 546
        }
      },
      "source": [
        "import seaborn as sn\n",
        "import matplotlib.pyplot as plt\n",
        "\n",
        "resultado = pd.DataFrame(cm, index=label,columns=label)\n",
        "fig = plt.figure(figsize= (6,6))\n",
        "ax = fig.add_subplot(1,1,1)\n",
        "sn.heatmap(resultado, annot=True, linewidths=1, linecolor= 'white', cmap=\"GnBu\")\n",
        "font= {'family': 'serif',\n",
        "     'color': 'darkred',\n",
        "    'weight': 'normal',\n",
        "    'size':10}\n",
        "ax.set_title(\"Matrix de confusion \",fontdict ={'family': 'serif','color': 'black','weight': 'normal','size':40})\n",
        "ax.set_ylabel(\"Preditec Label\", labelpad=50, fontdict={'family': 'serif','color': 'black','weight': 'normal','size':5})\n",
        "ax.set_xlabel(\"True Label\", labelpad=10, fontdict={'family': 'serif','color': 'black','weight': 'normal','size':20})"
      ],
      "execution_count": null,
      "outputs": [
        {
          "output_type": "execute_result",
          "data": {
            "text/plain": [
              "Text(0.5, 32.09375, 'True Label')"
            ]
          },
          "metadata": {
            "tags": []
          },
          "execution_count": 101
        },
        {
          "output_type": "display_data",
          "data": {
            "image/png": "[encoded data removed]",
            "text/plain": [
              "<Figure size 432x432 with 2 Axes>"
            ]
          },
          "metadata": {
            "tags": [],
            "needs_background": "light"
          }
        }
      ]
    },
    {
      "cell_type": "code",
      "metadata": {
        "id": "v4noPNAcpRrK",
        "outputId": "aeb217a1-b9ca-4615-92d1-f117d87a222d",
        "colab": {
          "base_uri": "https://localhost:8080/",
          "height": 54
        }
      },
      "source": [
        "Li=47\n",
        "Ls=Li+1\n",
        "DataPredict=test.iloc[Li:Ls,2:50]\n",
        "Actividad=test.iloc[Li:Ls,50:51]\n",
        "print(Actividad)\n"
      ],
      "execution_count": null,
      "outputs": [
        {
          "output_type": "stream",
          "text": [
            "              activity\n",
            "39  walking_downstairs\n"
          ],
          "name": "stdout"
        }
      ]
    },
    {
      "cell_type": "code",
      "metadata": {
        "id": "pRbvYIt8poYO",
        "outputId": "caf4a283-301d-454e-da66-aaaabf50b289",
        "colab": {
          "base_uri": "https://localhost:8080/",
          "height": 35
        }
      },
      "source": [
        "actividad=model01.predict(DataPredict)\n",
        "actividad=actividad[0]\n",
        "actividad=np.argmax(actividad)\n",
        "actividad\n",
        "\n",
        "print(label[actividad])"
      ],
      "execution_count": null,
      "outputs": [
        {
          "output_type": "stream",
          "text": [
            "walking_downstairs\n"
          ],
          "name": "stdout"
        }
      ]
    },
    {
      "cell_type": "code",
      "metadata": {
        "id": "vRoY5sDSrhkt"
      },
      "source": [
        "model01.save(PATH_2+\"RedNeuronal.h5\")"
      ],
      "execution_count": null,
      "outputs": []
    },
    {
      "cell_type": "code",
      "metadata": {
        "id": "qtfA-HP81p11"
      },
      "source": [
        "from keras.models import load_model\n",
        "RedNeuronal=load_model(PATH_2+\"RedNeuronal.h5\")"
      ],
      "execution_count": null,
      "outputs": []
    },
    {
      "cell_type": "code",
      "metadata": {
        "id": "rtU229US2HKC",
        "outputId": "b85c6000-5cc5-4eaa-ebf1-60758c5636b9",
        "colab": {
          "base_uri": "https://localhost:8080/",
          "height": 312
        }
      },
      "source": [
        "RedNeuronal.summary()"
      ],
      "execution_count": null,
      "outputs": [
        {
          "output_type": "stream",
          "text": [
            "Model: \"sequential_3\"\n",
            "_________________________________________________________________\n",
            "Layer (type)                 Output Shape              Param #   \n",
            "=================================================================\n",
            "dense_6 (Dense)              (None, 250)               12250     \n",
            "_________________________________________________________________\n",
            "dense_7 (Dense)              (None, 250)               62750     \n",
            "_________________________________________________________________\n",
            "dense_8 (Dense)              (None, 250)               62750     \n",
            "_________________________________________________________________\n",
            "dense_9 (Dense)              (None, 6)                 1506      \n",
            "=================================================================\n",
            "Total params: 139,256\n",
            "Trainable params: 139,256\n",
            "Non-trainable params: 0\n",
            "_________________________________________________________________\n"
          ],
          "name": "stdout"
        }
      ]
    },
    {
      "cell_type": "code",
      "metadata": {
        "id": "OqlcisZ-2O2C"
      },
      "source": [
        ""
      ],
      "execution_count": null,
      "outputs": []
    }
  ]
}